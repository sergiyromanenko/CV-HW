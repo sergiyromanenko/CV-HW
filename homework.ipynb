{
  "nbformat": 4,
  "nbformat_minor": 0,
  "metadata": {
    "colab": {
      "provenance": [],
      "authorship_tag": "ABX9TyPUumGr5xX+BLTZcbyxoynI",
      "include_colab_link": true
    },
    "kernelspec": {
      "name": "python3",
      "display_name": "Python 3"
    },
    "language_info": {
      "name": "python"
    }
  },
  "cells": [
    {
      "cell_type": "markdown",
      "metadata": {
        "id": "view-in-github",
        "colab_type": "text"
      },
      "source": [
        "<a href=\"https://colab.research.google.com/github/sergiyromanenko/CV-HW/blob/master/homework.ipynb\" target=\"_parent\"><img src=\"https://colab.research.google.com/assets/colab-badge.svg\" alt=\"Open In Colab\"/></a>"
      ]
    },
    {
      "cell_type": "markdown",
      "source": [
        "## Homework 10\n",
        "\n",
        "In this homework, you are going to use and compare two different trackers (of your liking) and compare the results.\n",
        "\n",
        "### Step 1\n",
        "Decide what video you are going to use for this homework, select an object and generate the template. You can use any video you want (your own, from Youtube, etc.)\n",
        "and track any object you want (e.g. a car, a pedestrian, etc.).\n",
        "\n",
        "### Step 2\n",
        "Initialize a tracker (e.g. KCF)."
      ],
      "metadata": {
        "id": "UOoZPH-JD6y6"
      }
    },
    {
      "cell_type": "code",
      "source": [
        "cd CV-HW/lesson_10/homework"
      ],
      "metadata": {
        "colab": {
          "base_uri": "https://localhost:8080/"
        },
        "id": "koXuZuO7EKKV",
        "outputId": "cf2d85c4-3bf8-4137-f502-02ea27ede600"
      },
      "execution_count": 2,
      "outputs": [
        {
          "output_type": "stream",
          "name": "stdout",
          "text": [
            "/content/CV-HW/lesson_10/homework\n"
          ]
        }
      ]
    },
    {
      "cell_type": "code",
      "source": [
        "!git add ./homework.ipynb"
      ],
      "metadata": {
        "id": "WY1FCVCHEZ50"
      },
      "execution_count": 7,
      "outputs": []
    }
  ]
}